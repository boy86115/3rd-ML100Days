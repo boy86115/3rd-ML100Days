{
 "cells": [
  {
   "cell_type": "code",
   "execution_count": null,
   "metadata": {},
   "outputs": [],
   "source": [
    "#請找出一個你認為機器學習可以發光發熱的領域並闡述原因?\n",
    "\"\"\"\n",
    "金融業-反洗錢領域\n",
    "交易監控，透過機器學習提高找出可疑交易之正確比率，並自動產生可疑交易報告。\n",
    "=>減少人力成本。目前大部分金融業無準確之可疑交易警示預測，導致產生出許多 False-postive Alerts，且必須經由人工去檢核案件，人力成本大大提高\n",
    "\n",
    "\"\"\""
   ]
  }
 ],
 "metadata": {
  "kernelspec": {
   "display_name": "Python 3",
   "language": "python",
   "name": "python3"
  },
  "language_info": {
   "codemirror_mode": {
    "name": "ipython",
    "version": 3
   },
   "file_extension": ".py",
   "mimetype": "text/x-python",
   "name": "python",
   "nbconvert_exporter": "python",
   "pygments_lexer": "ipython3",
   "version": "3.7.3"
  }
 },
 "nbformat": 4,
 "nbformat_minor": 2
}
