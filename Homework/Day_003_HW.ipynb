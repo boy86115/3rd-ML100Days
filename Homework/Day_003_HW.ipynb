{
 "cells": [
  {
   "cell_type": "code",
   "execution_count": null,
   "metadata": {},
   "outputs": [],
   "source": [
    "#专访360金融郑彦：欺诈亏损率0.2%背后的故事\n",
    "\"\"\"\n",
    "1.專案的目標？ (要解決什麼問題）\n",
    "透過機器學系技術，降低民眾受騙之比率\n",
    "2.使用的技術是？ (只需知道名稱即可，例如：使用 CNN 卷積神經網路做影像分類)\n",
    "監督式學習和非監督式學習\n",
    "3.資料來源？\n",
    "用戶數據，如客戶基本資料，交易資料，地理位置等\n",
    "\n",
    "\"\"\""
   ]
  }
 ],
 "metadata": {
  "kernelspec": {
   "display_name": "Python 3",
   "language": "python",
   "name": "python3"
  },
  "language_info": {
   "codemirror_mode": {
    "name": "ipython",
    "version": 3
   },
   "file_extension": ".py",
   "mimetype": "text/x-python",
   "name": "python",
   "nbconvert_exporter": "python",
   "pygments_lexer": "ipython3",
   "version": "3.7.3"
  }
 },
 "nbformat": 4,
 "nbformat_minor": 2
}
